{
 "cells": [
  {
   "cell_type": "markdown",
   "id": "11b97d24",
   "metadata": {},
   "source": [
    "# Data Programming Assignment 2\n",
    "## Marc Thomas - 200535250"
   ]
  },
  {
   "cell_type": "markdown",
   "id": "d3896f58",
   "metadata": {},
   "source": [
    "## - Question 1\n",
    "Consider the following Python module:\n",
    "```\n",
    "a = 0\n",
    "def b():\n",
    "global a\n",
    "a = c(a)\n",
    "def c(a):\n",
    "return a + 2\n",
    "```\n",
    "#### After importing the module into the interpreter, you execute:\n",
    "```\n",
    ">>> b()\n",
    ">>> b()\n",
    ">>> b()\n",
    ">>> a\n",
    "```\n",
    " ? <br>\n",
    " \n",
    "What value is displayed when the last expression (a) is evaluated? Explain your\n",
    "answer by indicating what happens in every executed statement."
   ]
  },
  {
   "cell_type": "code",
   "execution_count": 49,
   "id": "42020333",
   "metadata": {},
   "outputs": [],
   "source": [
    "a=0\n",
    "def b():    \n",
    "    global a\n",
    "    a=c(a)\n",
    "\n",
    "def c(a):\n",
    "    return a+2"
   ]
  },
  {
   "cell_type": "code",
   "execution_count": 50,
   "id": "fa422552",
   "metadata": {},
   "outputs": [],
   "source": [
    "b() #function b calls function c and adds 2 to a     before: a=0  after: a=2"
   ]
  },
  {
   "cell_type": "code",
   "execution_count": 51,
   "id": "9bbb81be",
   "metadata": {},
   "outputs": [],
   "source": [
    "b() #function b calls function c and adds 2 to a     before: a=2  after: a=4"
   ]
  },
  {
   "cell_type": "code",
   "execution_count": 52,
   "id": "c5a392de",
   "metadata": {},
   "outputs": [],
   "source": [
    "b() #function b calls function c and adds 2 to a     before: a=4  after: a=6"
   ]
  },
  {
   "cell_type": "code",
   "execution_count": 53,
   "id": "22702875",
   "metadata": {},
   "outputs": [
    {
     "data": {
      "text/plain": [
       "6"
      ]
     },
     "execution_count": 53,
     "metadata": {},
     "output_type": "execute_result"
    }
   ],
   "source": [
    "a"
   ]
  },
  {
   "cell_type": "markdown",
   "id": "27cd71d4",
   "metadata": {},
   "source": [
    "### Explanation: \n",
    "####  The value displayed here is 6 as the program runs as follows :\n",
    "1. **a** is initialized as 0\n",
    "2. function named **b** is defined and contains a global variable **a**(which means that the variable has a scope outside the function) and function **b** calls another function **c** and assigns it's value to **a**.\n",
    "3. function **c** is defined with a parameter **a** that returns a value of **a** + 2 when called.\n"
   ]
  },
  {
   "cell_type": "code",
   "execution_count": null,
   "id": "22f899c9",
   "metadata": {},
   "outputs": [],
   "source": []
  },
  {
   "cell_type": "code",
   "execution_count": null,
   "id": "47e715ed",
   "metadata": {},
   "outputs": [],
   "source": []
  },
  {
   "cell_type": "code",
   "execution_count": null,
   "id": "2986ef5f",
   "metadata": {},
   "outputs": [],
   "source": []
  },
  {
   "cell_type": "code",
   "execution_count": null,
   "id": "f9b9b417",
   "metadata": {},
   "outputs": [],
   "source": []
  },
  {
   "cell_type": "markdown",
   "id": "43d6d983",
   "metadata": {},
   "source": [
    "## - Question 2\n",
    "\n",
    "Function fileLength(), given to you, takes the name of a file as input and returns\n",
    "the length of the file:\n",
    "```\n",
    ">>> fileLength('midterm.py')\n",
    "284\n",
    ">>> fileLength('idterm.py')\n",
    "```\n",
    "\n",
    "    Traceback (most recent call last):\n",
    "\n",
    "    File \"<pyshell#34>\", line 1, in <module>\n",
    "    fileLength('idterm.py')\n",
    "    File \"/Users/me/midterm.py\", line 3, in fileLength\n",
    "    infile = open(filename)\n",
    "    FileNotFoundError: [Errno 2] No such file or directory:\n",
    "    'idterm.py'\n",
    "\n",
    "    \n",
    "As shown above, if the file cannot be found by the interpreter or if it cannot be read\n",
    "as a text file, an exception will be raised. Modify function fileLength() so that a\n",
    "friendly message is printed instead:\n",
    "\n",
    "    >>> fileLength('midterm.py')\n",
    "    358\n",
    "    >>> fileLength('idterm.py')\n",
    "    File idterm.py not found."
   ]
  },
  {
   "cell_type": "code",
   "execution_count": 55,
   "id": "2cadf9d6",
   "metadata": {},
   "outputs": [],
   "source": [
    "def file_length(file_name):\n",
    "    try:\n",
    "        file = open(file_name)\n",
    "        contents = file.read()\n",
    "        file.close()\n",
    "        print(len(contents))\n",
    "    except: \n",
    "        print(f\"File {file_name} not found\" )"
   ]
  },
  {
   "cell_type": "code",
   "execution_count": 58,
   "id": "63cffcf8",
   "metadata": {},
   "outputs": [
    {
     "name": "stdout",
     "output_type": "stream",
     "text": [
      "File idterm.py not found\n"
     ]
    }
   ],
   "source": [
    "file_length(\"idterm.py\")"
   ]
  },
  {
   "cell_type": "code",
   "execution_count": null,
   "id": "35a773ee",
   "metadata": {},
   "outputs": [],
   "source": []
  },
  {
   "cell_type": "code",
   "execution_count": null,
   "id": "8ba3faf3",
   "metadata": {},
   "outputs": [],
   "source": []
  },
  {
   "cell_type": "code",
   "execution_count": null,
   "id": "4add24c7",
   "metadata": {},
   "outputs": [],
   "source": []
  },
  {
   "cell_type": "code",
   "execution_count": null,
   "id": "da49d336",
   "metadata": {},
   "outputs": [],
   "source": []
  },
  {
   "cell_type": "code",
   "execution_count": null,
   "id": "59e4a460",
   "metadata": {},
   "outputs": [],
   "source": []
  },
  {
   "cell_type": "markdown",
   "id": "bcd468f0",
   "metadata": {},
   "source": [
    "## - Question 3\n",
    "Write a class named Marsupial that can be used as shown below:\n",
    "\n",
    "    >>> m = Marsupial()\n",
    "    >>> m.put_in_pouch('doll')\n",
    "    >>> m.put_in_pouch('firetruck')\n",
    "    >>> m.put_in_pouch('kitten')\n",
    "    >>> m.pouch_contents()\n",
    "    ['doll', 'firetruck', 'kitten']\n",
    "\n",
    "Now write a class named Kangaroo as a subclass of Marsupial that inherits all the\n",
    "attributes of Marsupial and also:\n",
    "\n",
    "1. extends the Marsupial __init__ constructor to take, as input, the\n",
    "   coordinates x and y of the Kangaroo object,\n",
    "2. supports method jump that takes number values dx and dy as input and\n",
    "   moves the kangaroo by dx units along the x-axis and by dy units along the y-\n",
    "   axis, and\n",
    "3. overloads the __str__ operator so it behaves as shown below.\n",
    "```\n",
    "\n",
    "    >>> k = Kangaroo(0,0)\n",
    "    >>> print(k)\n",
    "    I am a Kangaroo located at coordinates (0,0)\n",
    "    >>> k.put_in_pouch('doll')\n",
    "    >>> k.put_in_pouch('firetruck')\n",
    "    >>> k.put_in_pouch('kitten')\n",
    "    >>> k.pouch_contents()\n",
    "    ['doll', 'firetruck', 'kitten']\n",
    "    >>> k.jump(1,0)\n",
    "    >>> k.jump(1,0)\n",
    "    >>> k.jump(1,0)\n",
    "    >>> print(k)\n",
    "    \n",
    "I am a Kangaroo located at coordinates (3,0)\n",
    "```"
   ]
  },
  {
   "cell_type": "code",
   "execution_count": 110,
   "id": "33a9e9cf",
   "metadata": {},
   "outputs": [],
   "source": [
    "class Marsupial: \n",
    "    pouch =[]\n",
    "    \n",
    "        \n",
    "    \n",
    "    \n",
    "    def put_in_pouch(self, item):\n",
    "        self.item=item\n",
    "        self.pouch.append(self.item)\n",
    "    \n",
    "    def pouch_contents(self):\n",
    "        print(self.pouch)\n",
    "        \n",
    "\n",
    "        \n",
    "class Kangaroo(Marsupial):\n",
    "    pouch=[]\n",
    "    def __init__(self,x,y):\n",
    "        self.x=x\n",
    "        self.y=y\n",
    "        super().__init__()\n",
    "        \n",
    "    def jump(self, dx,dy):\n",
    "        self.dx=dx\n",
    "        self.dy=dy\n",
    "        self.x+=dx\n",
    "        self.y+=dy\n",
    "        \n",
    "        \n",
    "    def __str__(self):\n",
    "        return f\"I am a Kangaroo located at coordinates ({self.x},{self.y})\"\n",
    "    \n",
    "    \n",
    "        "
   ]
  },
  {
   "cell_type": "code",
   "execution_count": 111,
   "id": "61621a7b",
   "metadata": {},
   "outputs": [],
   "source": [
    "m=Marsupial()"
   ]
  },
  {
   "cell_type": "code",
   "execution_count": 112,
   "id": "eb9fe7d6",
   "metadata": {},
   "outputs": [],
   "source": [
    "m.put_in_pouch('doll')"
   ]
  },
  {
   "cell_type": "code",
   "execution_count": 113,
   "id": "4760d329",
   "metadata": {},
   "outputs": [],
   "source": [
    "m.put_in_pouch('firetruck')"
   ]
  },
  {
   "cell_type": "code",
   "execution_count": 114,
   "id": "3b209af2",
   "metadata": {},
   "outputs": [],
   "source": [
    "m.put_in_pouch('kitten')"
   ]
  },
  {
   "cell_type": "code",
   "execution_count": 115,
   "id": "b2d1656d",
   "metadata": {},
   "outputs": [
    {
     "name": "stdout",
     "output_type": "stream",
     "text": [
      "['doll', 'firetruck', 'kitten']\n"
     ]
    }
   ],
   "source": [
    "m.pouch_contents()"
   ]
  },
  {
   "cell_type": "code",
   "execution_count": null,
   "id": "693a5f15",
   "metadata": {},
   "outputs": [],
   "source": []
  },
  {
   "cell_type": "code",
   "execution_count": 116,
   "id": "6d148445",
   "metadata": {},
   "outputs": [],
   "source": [
    "k=Kangaroo(0,0)"
   ]
  },
  {
   "cell_type": "code",
   "execution_count": 117,
   "id": "11861d4b",
   "metadata": {},
   "outputs": [
    {
     "name": "stdout",
     "output_type": "stream",
     "text": [
      "I am a Kangaroo located at coordinates (0,0)\n"
     ]
    }
   ],
   "source": [
    "print(k)"
   ]
  },
  {
   "cell_type": "code",
   "execution_count": 118,
   "id": "17c06d1d",
   "metadata": {},
   "outputs": [],
   "source": [
    "k.put_in_pouch('doll')"
   ]
  },
  {
   "cell_type": "code",
   "execution_count": 119,
   "id": "bd676ce6",
   "metadata": {},
   "outputs": [],
   "source": [
    "k.put_in_pouch('firetruck')"
   ]
  },
  {
   "cell_type": "code",
   "execution_count": 120,
   "id": "b29f34ca",
   "metadata": {},
   "outputs": [],
   "source": [
    "k.put_in_pouch('kitten')"
   ]
  },
  {
   "cell_type": "code",
   "execution_count": 121,
   "id": "c96a8daa",
   "metadata": {},
   "outputs": [
    {
     "name": "stdout",
     "output_type": "stream",
     "text": [
      "['doll', 'firetruck', 'kitten']\n"
     ]
    }
   ],
   "source": [
    "k.pouch_contents()"
   ]
  },
  {
   "cell_type": "code",
   "execution_count": 122,
   "id": "2403a031",
   "metadata": {},
   "outputs": [],
   "source": [
    "k.jump(1,0)"
   ]
  },
  {
   "cell_type": "code",
   "execution_count": 123,
   "id": "f6f2c127",
   "metadata": {},
   "outputs": [],
   "source": [
    "k.jump(1,0)"
   ]
  },
  {
   "cell_type": "code",
   "execution_count": 124,
   "id": "32649670",
   "metadata": {},
   "outputs": [],
   "source": [
    "k.jump(1,0)"
   ]
  },
  {
   "cell_type": "code",
   "execution_count": 125,
   "id": "6a781c90",
   "metadata": {},
   "outputs": [
    {
     "name": "stdout",
     "output_type": "stream",
     "text": [
      "I am a Kangaroo located at coordinates (3,0)\n"
     ]
    }
   ],
   "source": [
    "print(k)"
   ]
  },
  {
   "cell_type": "code",
   "execution_count": null,
   "id": "d745ad38",
   "metadata": {},
   "outputs": [],
   "source": []
  },
  {
   "cell_type": "code",
   "execution_count": null,
   "id": "7484d2ff",
   "metadata": {},
   "outputs": [],
   "source": []
  },
  {
   "cell_type": "code",
   "execution_count": null,
   "id": "4593b061",
   "metadata": {},
   "outputs": [],
   "source": []
  },
  {
   "cell_type": "code",
   "execution_count": null,
   "id": "c7155190",
   "metadata": {},
   "outputs": [],
   "source": []
  },
  {
   "cell_type": "code",
   "execution_count": null,
   "id": "85a00912",
   "metadata": {},
   "outputs": [],
   "source": []
  },
  {
   "cell_type": "markdown",
   "id": "3008ada0",
   "metadata": {},
   "source": [
    "## - Question 4\n",
    "\n",
    "Write function collatz() that takes a positive integer x as input and prints the\n",
    "Collatz sequence starting at x. A Collatz sequence is obtained by repeatedly applying\n",
    "this rule to the previous number x in the sequence:\n",
    "\n",
    "    x = { 𝑥/2 𝑖𝑓 𝑥 𝑖𝑠 𝑒𝑣𝑒𝑛\n",
    "    3𝑥 + 1 𝑖𝑓 𝑥 𝑖𝑠 𝑜𝑑𝑑\n",
    "\n",
    "Your function should stop when the sequence gets to number 1. Your\n",
    "implementation must be recursive, without any loops."
   ]
  },
  {
   "cell_type": "code",
   "execution_count": 183,
   "id": "020a5214",
   "metadata": {},
   "outputs": [],
   "source": [
    "def collatz(x):\n",
    "    print(x)\n",
    "    if x==1:\n",
    "        pass\n",
    "        \n",
    "    if x%2==0:\n",
    "        x=x/2\n",
    "    elif x==1:\n",
    "        pass\n",
    "    elif x%2!=0: \n",
    "        x= (3*x)+1\n",
    "    \n",
    "    if x==1:\n",
    "        print(x)\n",
    "        pass\n",
    "    else:\n",
    "        collatz(x)\n",
    "    \n",
    "    \n",
    "    \n",
    "    "
   ]
  },
  {
   "cell_type": "code",
   "execution_count": 186,
   "id": "0503ba0a",
   "metadata": {},
   "outputs": [
    {
     "name": "stdout",
     "output_type": "stream",
     "text": [
      "9\n",
      "28\n",
      "14.0\n",
      "7.0\n",
      "22.0\n",
      "11.0\n",
      "34.0\n",
      "17.0\n",
      "52.0\n",
      "26.0\n",
      "13.0\n",
      "40.0\n",
      "20.0\n",
      "10.0\n",
      "5.0\n",
      "16.0\n",
      "8.0\n",
      "4.0\n",
      "2.0\n",
      "1.0\n"
     ]
    }
   ],
   "source": [
    "collatz(9)"
   ]
  },
  {
   "cell_type": "markdown",
   "id": "2e83c21c",
   "metadata": {},
   "source": []
  },
  {
   "cell_type": "code",
   "execution_count": null,
   "id": "44621de8",
   "metadata": {},
   "outputs": [],
   "source": []
  },
  {
   "cell_type": "code",
   "execution_count": null,
   "id": "e88eeca4",
   "metadata": {},
   "outputs": [],
   "source": []
  },
  {
   "cell_type": "code",
   "execution_count": null,
   "id": "d5893841",
   "metadata": {},
   "outputs": [],
   "source": []
  },
  {
   "cell_type": "code",
   "execution_count": null,
   "id": "fdb23f85",
   "metadata": {},
   "outputs": [],
   "source": []
  },
  {
   "cell_type": "markdown",
   "id": "6b44e9a9",
   "metadata": {},
   "source": [
    "## - Question 5\n",
    "Write a recursive method binary() that takes a non-negative\n",
    "integer n and prints the binary representation of integer n.\n",
    "\n",
    "        >>> binary(0)\n",
    "        0\n",
    "        >>> binary(1)\n",
    "        1\n",
    "        >>> binary(3)\n",
    "        11\n",
    "        >>> binary(9)\n",
    "        1001\n",
    "### Reference: https://www.youtube.com/watch?v=6lqlGqGBsTM&ab_channel=nETSETOS\n",
    "I spent more than an hour and couldn't come up with the algorithm. I realised I wasn't converting the data into int. it was throwing garbage output and I couldn't stand it."
   ]
  },
  {
   "cell_type": "code",
   "execution_count": 199,
   "id": "feda8054",
   "metadata": {},
   "outputs": [],
   "source": [
    "def binary(n):\n",
    "    if n ==0:\n",
    "        return 0\n",
    "    else:\n",
    "        binary(int(n/2))\n",
    "        print(n%2,end=\"\")"
   ]
  },
  {
   "cell_type": "code",
   "execution_count": 203,
   "id": "0849cce2",
   "metadata": {},
   "outputs": [
    {
     "data": {
      "text/plain": [
       "0"
      ]
     },
     "execution_count": 203,
     "metadata": {},
     "output_type": "execute_result"
    }
   ],
   "source": [
    "binary(0)"
   ]
  },
  {
   "cell_type": "code",
   "execution_count": 204,
   "id": "88f978be",
   "metadata": {},
   "outputs": [
    {
     "name": "stdout",
     "output_type": "stream",
     "text": [
      "1"
     ]
    }
   ],
   "source": [
    "binary(1)"
   ]
  },
  {
   "cell_type": "code",
   "execution_count": 205,
   "id": "58d1b49c",
   "metadata": {},
   "outputs": [
    {
     "name": "stdout",
     "output_type": "stream",
     "text": [
      "11"
     ]
    }
   ],
   "source": [
    "binary(3)"
   ]
  },
  {
   "cell_type": "code",
   "execution_count": 206,
   "id": "bfa9df26",
   "metadata": {},
   "outputs": [
    {
     "name": "stdout",
     "output_type": "stream",
     "text": [
      "1001"
     ]
    }
   ],
   "source": [
    "binary(9)"
   ]
  },
  {
   "cell_type": "code",
   "execution_count": null,
   "id": "0f8519f0",
   "metadata": {},
   "outputs": [],
   "source": []
  },
  {
   "cell_type": "code",
   "execution_count": null,
   "id": "e565fd64",
   "metadata": {},
   "outputs": [],
   "source": []
  },
  {
   "cell_type": "code",
   "execution_count": null,
   "id": "be7a22f9",
   "metadata": {},
   "outputs": [],
   "source": []
  },
  {
   "cell_type": "code",
   "execution_count": null,
   "id": "4fb363fd",
   "metadata": {},
   "outputs": [],
   "source": []
  },
  {
   "cell_type": "code",
   "execution_count": null,
   "id": "2344b56c",
   "metadata": {},
   "outputs": [],
   "source": []
  },
  {
   "cell_type": "markdown",
   "id": "966a8c4e",
   "metadata": {},
   "source": [
    "## - Question 6\n",
    "implement a class named HeadingParser that can be used to parse an HTML\n",
    "document, and retrieve and print all the headings in the document. You should\n",
    "implement your class as a subclass of HTMLParser, defined in Standard Library\n",
    "module html.parser. When fed a string containing HTML code, your class should\n",
    "print the headings, one per line and in the order in which they appear in the\n",
    "document. Each heading should be indented as follows: an h1 heading should have\n",
    "indentation 0, and h2 heading should have indentation 1, etc. Test your\n",
    "implementation using w3c.html.\n",
    "\n",
    "        >>> infile = open('w3c.html')\n",
    "        >>> content = infile.read()\n",
    "        >>> infile.close()\n",
    "        >>> hp = HeadingParser()\n",
    "        >>> hp.feed(content)\n",
    "        W3C Mission\n",
    "        Principles"
   ]
  },
  {
   "cell_type": "code",
   "execution_count": null,
   "id": "cf24bec5",
   "metadata": {},
   "outputs": [],
   "source": []
  },
  {
   "cell_type": "code",
   "execution_count": null,
   "id": "a8c07a61",
   "metadata": {},
   "outputs": [],
   "source": []
  },
  {
   "cell_type": "code",
   "execution_count": null,
   "id": "d1bf4641",
   "metadata": {},
   "outputs": [],
   "source": []
  },
  {
   "cell_type": "code",
   "execution_count": null,
   "id": "ca1f5eae",
   "metadata": {},
   "outputs": [],
   "source": []
  },
  {
   "cell_type": "code",
   "execution_count": null,
   "id": "7030e1db",
   "metadata": {},
   "outputs": [],
   "source": []
  },
  {
   "cell_type": "markdown",
   "id": "159a5b21",
   "metadata": {},
   "source": [
    "## - Question 7\n",
    "Implement recursive function webdir() that takes as input: a URL (as a string) and\n",
    "non-negative integers depth and indent. Your function should visit every web\n",
    "page reachable from the starting URL web page in depth clicks or less, and print\n",
    "each web page's URL. As shown below, indentation, specified by indent, should\n",
    "be used to indicate the depth of a URL.\n",
    "\n",
    "        >>>\n",
    "        webdir('http://reed.cs.depaul.edu/lperkovic/csc242/test1.html'\n",
    "        , 2, 0)\n",
    "        http://reed.cs.depaul.edu/lperkovic/csc242/test1.html\n",
    "        http://reed.cs.depaul.edu/lperkovic/csc242/test2.html\n",
    "        http://reed.cs.depaul.edu/lperkovic/csc242/test4.html\n",
    "        http://reed.cs.depaul.edu/lperkovic/csc242/test3.html\n",
    "        http://reed.cs.depaul.edu/lperkovic/csc242/test4.html"
   ]
  },
  {
   "cell_type": "code",
   "execution_count": null,
   "id": "337c9b09",
   "metadata": {},
   "outputs": [],
   "source": []
  },
  {
   "cell_type": "code",
   "execution_count": null,
   "id": "7cf88c5a",
   "metadata": {},
   "outputs": [],
   "source": []
  },
  {
   "cell_type": "code",
   "execution_count": null,
   "id": "b0f2c9f0",
   "metadata": {},
   "outputs": [],
   "source": []
  },
  {
   "cell_type": "code",
   "execution_count": null,
   "id": "e55c7efa",
   "metadata": {},
   "outputs": [],
   "source": []
  },
  {
   "cell_type": "code",
   "execution_count": null,
   "id": "0f0be9de",
   "metadata": {},
   "outputs": [],
   "source": []
  },
  {
   "cell_type": "markdown",
   "id": "03c1397e",
   "metadata": {},
   "source": [
    "## - Question 8\n",
    "Write SQL queries on the below database table that return:\n",
    "- All the temperature data.\n",
    "- All the cities, but without repetition.\n",
    "- All the records for India.\n",
    "- All the Fall records.\n",
    "- The city, country, and season for which the average rainfall is between 200\n",
    "and 400 millimeters.\n",
    "- The city and country for which the average Fall temperature is above 20\n",
    "degrees, in increasing temperature order.\n",
    "- The total annual rainfall for Cairo.\n",
    "- The total rainfall for each season."
   ]
  },
  {
   "cell_type": "code",
   "execution_count": null,
   "id": "18f402b6",
   "metadata": {},
   "outputs": [],
   "source": []
  },
  {
   "cell_type": "code",
   "execution_count": null,
   "id": "848bc931",
   "metadata": {},
   "outputs": [],
   "source": []
  },
  {
   "cell_type": "code",
   "execution_count": null,
   "id": "9323d237",
   "metadata": {},
   "outputs": [],
   "source": []
  },
  {
   "cell_type": "code",
   "execution_count": null,
   "id": "1837d0cf",
   "metadata": {},
   "outputs": [],
   "source": []
  },
  {
   "cell_type": "code",
   "execution_count": null,
   "id": "9adf1f1a",
   "metadata": {},
   "outputs": [],
   "source": []
  },
  {
   "cell_type": "markdown",
   "id": "92bfb182",
   "metadata": {},
   "source": [
    "## - Question 9\n",
    ". Suppose list words is defined as follows:\n",
    "\n",
    "    >>> words = ['The', 'quick', 'brown', 'fox', 'jumps', 'over',\n",
    "    'the', 'lazy', 'dog']\n",
    "    \n",
    "Write list comprehension expressions that use list words and generate the following\n",
    "lists:\n",
    "\n",
    "    a) ['THE', 'QUICK', 'BROWN', 'FOX', 'JUMPS', 'OVER', 'THE',\n",
    "    'LAZY', 'DOG']\n",
    "\n",
    "    b) ['the', 'quick', 'brown', 'fox', 'jumps', 'over', 'the',\n",
    "    'lazy', 'dog']\n",
    "    \n",
    "    c) [3, 5, 5, 3, 5, 4, 3, 4, 3] (the list of lengths of words in list\n",
    "    words).\n",
    "    \n",
    "    d) [['THE', 'the', 3], ['QUICK', 'quick', 5], ['BROWN',\n",
    "    'brown', 5], ['FOX', 'fox', 3], ['JUMPS', 'jumps', 5],\n",
    "    ['OVER', 'over', 4], ['THE', 'the', 3], ['LAZY', 'lazy',\n",
    "    4], ['DOG', 'dog', 3]] (the list containing a list for every word of list\n",
    "    words, where each list contains the word in uppercase and lowercase and the\n",
    "    length of the word.)\n",
    "    \n",
    "    e) ['The', 'quick', 'brown', 'fox', 'jumps', 'over', 'the',\n",
    "    'lazy', 'dog'] (the list of words in list words containing 4 or more\n",
    "    characters.)\n"
   ]
  },
  {
   "cell_type": "code",
   "execution_count": 207,
   "id": "be3d43fb",
   "metadata": {},
   "outputs": [],
   "source": [
    "words = ['The', 'quick', 'brown', 'fox', 'jumps', 'over',\n",
    "'the', 'lazy', 'dog']"
   ]
  },
  {
   "cell_type": "code",
   "execution_count": 211,
   "id": "1d907ac9",
   "metadata": {},
   "outputs": [
    {
     "data": {
      "text/plain": [
       "['THE', 'QUICK', 'BROWN', 'FOX', 'JUMPS', 'OVER', 'THE', 'LAZY', 'DOG']"
      ]
     },
     "execution_count": 211,
     "metadata": {},
     "output_type": "execute_result"
    }
   ],
   "source": [
    "[a.upper() for a in words]"
   ]
  },
  {
   "cell_type": "code",
   "execution_count": 212,
   "id": "2f651131",
   "metadata": {},
   "outputs": [
    {
     "data": {
      "text/plain": [
       "['the', 'quick', 'brown', 'fox', 'jumps', 'over', 'the', 'lazy', 'dog']"
      ]
     },
     "execution_count": 212,
     "metadata": {},
     "output_type": "execute_result"
    }
   ],
   "source": [
    "[a.lower() for a in words]"
   ]
  },
  {
   "cell_type": "code",
   "execution_count": 213,
   "id": "d7021384",
   "metadata": {},
   "outputs": [
    {
     "data": {
      "text/plain": [
       "[3, 5, 5, 3, 5, 4, 3, 4, 3]"
      ]
     },
     "execution_count": 213,
     "metadata": {},
     "output_type": "execute_result"
    }
   ],
   "source": [
    "[len(a) for a in words]"
   ]
  },
  {
   "cell_type": "code",
   "execution_count": 216,
   "id": "dcfe62db",
   "metadata": {},
   "outputs": [
    {
     "data": {
      "text/plain": [
       "[['THE', 'the', 3],\n",
       " ['QUICK', 'quick', 5],\n",
       " ['BROWN', 'brown', 5],\n",
       " ['FOX', 'fox', 3],\n",
       " ['JUMPS', 'jumps', 5],\n",
       " ['OVER', 'over', 4],\n",
       " ['THE', 'the', 3],\n",
       " ['LAZY', 'lazy', 4],\n",
       " ['DOG', 'dog', 3]]"
      ]
     },
     "execution_count": 216,
     "metadata": {},
     "output_type": "execute_result"
    }
   ],
   "source": [
    "[[a.upper(),a.lower(),len(a)] for a in words]"
   ]
  },
  {
   "cell_type": "code",
   "execution_count": 220,
   "id": "fbce5813",
   "metadata": {},
   "outputs": [
    {
     "name": "stdout",
     "output_type": "stream",
     "text": [
      "['quick', 'brown', 'jumps', 'over', 'lazy']\n"
     ]
    }
   ],
   "source": [
    "new_words=[]\n",
    "for i in words:\n",
    "    if len(i)>=4:\n",
    "        new_words.append(i)\n",
    "print(new_words)"
   ]
  },
  {
   "cell_type": "code",
   "execution_count": null,
   "id": "af8daa1f",
   "metadata": {},
   "outputs": [],
   "source": []
  },
  {
   "cell_type": "code",
   "execution_count": null,
   "id": "824f1940",
   "metadata": {},
   "outputs": [],
   "source": []
  }
 ],
 "metadata": {
  "kernelspec": {
   "display_name": "Python 3 (ipykernel)",
   "language": "python",
   "name": "python3"
  },
  "language_info": {
   "codemirror_mode": {
    "name": "ipython",
    "version": 3
   },
   "file_extension": ".py",
   "mimetype": "text/x-python",
   "name": "python",
   "nbconvert_exporter": "python",
   "pygments_lexer": "ipython3",
   "version": "3.9.12"
  }
 },
 "nbformat": 4,
 "nbformat_minor": 5
}
